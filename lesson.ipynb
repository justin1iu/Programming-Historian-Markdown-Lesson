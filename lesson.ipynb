{
 "cells": [
  {
   "cell_type": "markdown",
   "id": "578b62e4",
   "metadata": {},
   "source": [
    "| Heading 1 | Heading 2 | Heading 3 |\n",
    "| --------- | --------- | --------- |\n",
    "| Row 1, column 1 | Row 1, column 2 | Row 1, column 3|\n",
    "| Row 2, column 1 | Row 2, column 2 | Row 2, column 3|\n",
    "| Row 3, column 1 | Row 3, column 2 | Row 3, column 3|\n",
    "\n"
   ]
  },
  {
   "cell_type": "markdown",
   "id": "1af60a0a",
   "metadata": {},
   "source": [
    "| Left-aligned | Centered | Right-aligned |\n",
    "| :-------- | :-------: | --------: |\n",
    "| Apples | Red | 5000 |\n",
    "| Bananas | Yellow | 75 |"
   ]
  },
  {
   "cell_type": "markdown",
   "id": "8886b671",
   "metadata": {},
   "source": [
    "    <html>\n",
    "        <head>\n",
    "            <title>Website Title</title>\n",
    "        </head>\n",
    "        <body>\n",
    "        </body>\n",
    "    </html>"
   ]
  },
  {
   "cell_type": "markdown",
   "id": "7cf88d0b",
   "metadata": {},
   "source": [
    "> Hello, I am a paragraph of text enclosed in a blockquote. Notice how I am offset from the left margin."
   ]
  },
  {
   "cell_type": "markdown",
   "id": "c43aff22",
   "metadata": {},
   "source": []
  }
 ],
 "metadata": {
  "language_info": {
   "name": "python"
  }
 },
 "nbformat": 4,
 "nbformat_minor": 5
}
